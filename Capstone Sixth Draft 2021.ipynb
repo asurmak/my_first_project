{
 "cells": [
  {
   "cell_type": "code",
   "execution_count": 1,
   "metadata": {},
   "outputs": [],
   "source": [
    "import pandas as pd \n",
    "import numpy as np \n",
    "from matplotlib import pyplot as plt\n",
    "import seaborn as sns\n",
    "\n",
    "import statsmodels.api as sm \n",
    "import statsmodels.formula.api as smf\n",
    "\n",
    "from sklearn import linear_model\n",
    "from sklearn.feature_selection import RFE\n",
    "import plotly.express as px"
   ]
  },
  {
   "cell_type": "markdown",
   "metadata": {},
   "source": [
    "## IMPORT DATASET AND CREATE MORE USEFUL COLUMNS"
   ]
  },
  {
   "cell_type": "code",
   "execution_count": 2,
   "metadata": {},
   "outputs": [],
   "source": [
    "df = pd.read_csv(\"capstone_2014&2019.csv\")"
   ]
  },
  {
   "cell_type": "code",
   "execution_count": 3,
   "metadata": {},
   "outputs": [],
   "source": [
    "## here I am making several column adjustments to get more useful information to work with "
   ]
  },
  {
   "cell_type": "code",
   "execution_count": 4,
   "metadata": {},
   "outputs": [],
   "source": [
    "## add existing users of public healthcare with those without healthcare to get the total target number \n",
    "df[\"need_coverage\"] = df[\"2019_total_no_coverage\"] + df[\"2019_total_w_pbcoverage\"] "
   ]
  },
  {
   "cell_type": "code",
   "execution_count": 5,
   "metadata": {},
   "outputs": [],
   "source": [
    "## convert the target into a percentage of the total population \n",
    "df[\"percentage_need_coverage\"] = df[\"need_coverage\"] / df[\"2019_total_pop\"]"
   ]
  },
  {
   "cell_type": "code",
   "execution_count": 6,
   "metadata": {},
   "outputs": [],
   "source": [
    "## remove columns that have been added to create the target variables\n",
    "df.drop(['2019_total_no_coverage','2019_total_w_pbcoverage','2019_total_pop'],axis=1,inplace=True)"
   ]
  },
  {
   "cell_type": "code",
   "execution_count": 7,
   "metadata": {},
   "outputs": [],
   "source": [
    "## do the same with the input year data, it might help with predictions in a linear model \n",
    "df[\"2014_need_coverage\"] = df[\"total_no_coverage\"] + df[\"total_w_pbcoverage\"]\n",
    "df[\"2014%need_coverage\"] = df[\"2014_need_coverage\"] / df[\"total_pop\"]"
   ]
  },
  {
   "cell_type": "code",
   "execution_count": 8,
   "metadata": {},
   "outputs": [],
   "source": [
    "## rename columns so that they can be properly used in an OLS regression \n",
    "## this was done after a recursive factor elimination chose these as good predictors \n",
    "## this step ended up being irrelevant as no OLS was ever more accurate than 50% \n",
    "\n",
    "df.rename(columns = {'Total_16&Over':\"total_sixteen_yrs_plus\",\n",
    "                     '25-44years':\"twentyfive_to_fortyfour_yrs\", \n",
    "                     '45-64years':\"fortyfive_to_sixtyfour_yrs\", \n",
    "                     '65+years':\"sixtyfive_yrs_plus\",},inplace=True)"
   ]
  },
  {
   "cell_type": "code",
   "execution_count": 9,
   "metadata": {},
   "outputs": [],
   "source": [
    "## Variables to change to percentage of overall population \n",
    "## These are mostly variables that were found using RFE\n",
    "\n",
    "df[\"percentage_Employed\"] = df[\"Employed\"] / df[\"total_pop\"]\n",
    "df[\"percentage_Unemployed\"] = df[\"Unemployed\"] / df[\"total_pop\"]\n",
    "df[\"percentage_fortyfive_to_sixtyfour_yrs\"] = df[\"fortyfive_to_sixtyfour_yrs\"] / df[\"total_pop\"]\n",
    "df[\"percentage_households_not_receiving_benefits\"] = df[\"households_not_receiving_benefits\"] / df[\"total_pop\"]\n",
    "\n",
    "df[\"percentage_sixtyfive_yrs_plus\"] = df[\"sixtyfive_yrs_plus\"] / df[\"total_pop\"]\n",
    "df[\"percentage_no_coverage\"] = df[\"total_no_coverage\"] / df[\"total_pop\"]\n",
    "df[\"percentage_female\"] = df[\"total_pop_female\"] / df[\"total_pop\"]\n",
    "df[\"percentage_male\"] = df[\"total_pop_male\"] / df[\"total_pop\"]\n",
    "\n",
    "df[\"percentage_sixteen_yrs_plus\"] = df[\"total_sixteen_yrs_plus\"] / df[\"total_pop\"]\n",
    "df[\"percentage_w_pbcoverage\"] = df[\"total_w_pbcoverage\"] / df[\"total_pop\"]\n",
    "df[\"percentage_twentyfive_to_fortyfour_yrs\"] = df[\"twentyfive_to_fortyfour_yrs\"] / df[\"total_pop\"]\n",
    "\n",
    "## make these percentages as well, to continue testing my hypothesis \n",
    "\n",
    "df[\"percentage_Grade_School\"] = df[\"Grade_School\"] / df[\"total_pop\"]\n",
    "df[\"percentage_HS_Diploma_GED\"] = df[\"HS_Diploma_GED\"] / df[\"total_pop\"]\n",
    "df[\"percentage_Higher_Ed\"] = df[\"Higher_Ed\"] / df[\"total_pop\"]"
   ]
  },
  {
   "cell_type": "code",
   "execution_count": 10,
   "metadata": {},
   "outputs": [
    {
     "name": "stdout",
     "output_type": "stream",
     "text": [
      "Largest county population = 1184091\n",
      "Smallest county population = 3455\n",
      "Average county population = 61881\n",
      "Counties with pop under 15K = 30\n",
      "Counties with pop between 15K & 36K = 28\n",
      "Counties with pop over 36K = 29\n"
     ]
    }
   ],
   "source": [
    "## see if I can separate counties by size in any meaningful way \n",
    "\n",
    "print(\"Largest county population = \" + str(df[\"total_pop\"].max()))\n",
    "print(\"Smallest county population = \" + str(df[\"total_pop\"].min()))\n",
    "print(\"Average county population = \" + str(round(df[\"total_pop\"].mean())))\n",
    "\n",
    "print(\"Counties with pop under 15K = \" + str(df[df[\"total_pop\"] < 15000].county_index.count()))\n",
    "print(\"Counties with pop between 15K & 36K = \" + str(df[(df[\"total_pop\"] > 15000) & (df[\"total_pop\"] < 36000)].county_index.count()))\n",
    "print(\"Counties with pop over 36K = \" + str(df[df[\"total_pop\"] > 36000].county_index.count()))"
   ]
  },
  {
   "cell_type": "code",
   "execution_count": 11,
   "metadata": {},
   "outputs": [],
   "source": [
    "## separate counties by population size into a categorical value column \n",
    "## 1 = small \n",
    "## 2 = medium \n",
    "## 3 = large \n",
    "\n",
    "df[\"county_size\"] = 0 \n",
    "df.loc[df[\"total_pop\"]<=15000,\"county_size\"]=1\n",
    "df.loc[(df[\"total_pop\"]>15000)&(df[\"total_pop\"]<36000),\"county_size\"]=2\n",
    "df.loc[df[\"total_pop\"]>=36000,\"county_size\"]=3"
   ]
  },
  {
   "cell_type": "code",
   "execution_count": 12,
   "metadata": {},
   "outputs": [
    {
     "name": "stdout",
     "output_type": "stream",
     "text": [
      "Minimum percentage of a county population needing public healthcare: 20.5%\n",
      "Maximum percentage of a county population needing public healthcare: 64.2%\n",
      "Average percentage of a county population needing public healthcare: 40.8%\n",
      "High need counties: 47 (over the average)\n",
      "Low need counties: 40 (under the average)\n"
     ]
    }
   ],
   "source": [
    "## see if I can separate the \"need_coverage2014\" column into meaningful categorical data \n",
    "\n",
    "print(\"Minimum percentage of a county population needing public healthcare: \" + str((round(df[\"2014%need_coverage\"].min(),3))*100) + \"%\")\n",
    "print(\"Maximum percentage of a county population needing public healthcare: \" + str((round(df[\"2014%need_coverage\"].max(),3))*100) + \"%\")\n",
    "print(\"Average percentage of a county population needing public healthcare: \" + str((round(df[\"2014%need_coverage\"].mean(),3))*100) + \"%\")\n",
    "\n",
    "print(\"High need counties: \" + str(df[df[\"2014%need_coverage\"] > .408].county_index.count()) + \" (over the average)\")\n",
    "print(\"Low need counties: \" + str(df[df[\"2014%need_coverage\"] < .408].county_index.count()) + \" (under the average)\")"
   ]
  },
  {
   "cell_type": "code",
   "execution_count": 13,
   "metadata": {},
   "outputs": [],
   "source": [
    "## separate counties by public healthcare needs into a categorical value column \n",
    "## 1 = county's public healthcare needs exceed the average \n",
    "## 0 = county's public healthcare needs are below the average \n",
    "\n",
    "df[\"high_need_counties\"] = df[\"2014%need_coverage\"].apply(lambda x: 1 if x > .408 else 0)"
   ]
  },
  {
   "cell_type": "code",
   "execution_count": 57,
   "metadata": {},
   "outputs": [
    {
     "name": "stdout",
     "output_type": "stream",
     "text": [
      "0.2889172438935472\n",
      "0.5578218202809313\n",
      "0.38622616880175287\n",
      "0.12404620928627952\n",
      "0.31715291750503016\n",
      "0.2343557827974874\n",
      "0.02687390159072195\n",
      "0.13539302422529992\n",
      "0.06366525094153014\n"
     ]
    }
   ],
   "source": [
    "## Quick manual look at educational attainment averages \n",
    "\n",
    "print(df[\"percentage_Higher_Ed\"].min())\n",
    "print(df[\"percentage_Higher_Ed\"].max())\n",
    "print(df[\"percentage_Higher_Ed\"].mean())\n",
    "\n",
    "print(df[\"percentage_HS_Diploma_GED\"].min())\n",
    "print(df[\"percentage_HS_Diploma_GED\"].max())\n",
    "print(df[\"percentage_HS_Diploma_GED\"].mean())\n",
    "\n",
    "print(df[\"percentage_Grade_School\"].min())\n",
    "print(df[\"percentage_Grade_School\"].max())\n",
    "print(df[\"percentage_Grade_School\"].mean())"
   ]
  },
  {
   "cell_type": "code",
   "execution_count": 15,
   "metadata": {},
   "outputs": [],
   "source": [
    "## create a value to measure graduation rates, this will be used to evaluate parts of the hypothesis \n",
    "\n",
    "df[\"percentage_HS_and_Higher\"] = df[\"percentage_HS_Diploma_GED\"] + df[\"percentage_Higher_Ed\"]"
   ]
  },
  {
   "cell_type": "code",
   "execution_count": 16,
   "metadata": {},
   "outputs": [
    {
     "name": "stdout",
     "output_type": "stream",
     "text": [
      "Minimum percentage of High School level Educational Attainment: 51.0%\n",
      "Maximum percentage of High School level Educational Attainment: 75.2%\n",
      "Average percentage of High School level Educational Attainment: 62.1%\n",
      "Higher HS Graduation Rates: 47 (over the average)\n",
      "Lower HS Graduation Rates: 40 (under the average)\n"
     ]
    }
   ],
   "source": [
    "## use average graduation rates as a basis to create a binary categorical variable about educational attainment \n",
    "\n",
    "print(\"Minimum percentage of High School level Educational Attainment: \" + str((round(df[\"percentage_HS_and_Higher\"].min(),3))*100) + \"%\")\n",
    "print(\"Maximum percentage of High School level Educational Attainment: \" + str((round(df[\"percentage_HS_and_Higher\"].max(),3))*100) + \"%\")\n",
    "print(\"Average percentage of High School level Educational Attainment: \" + str((round(df[\"percentage_HS_and_Higher\"].mean(),3))*100) + \"%\")\n",
    "\n",
    "print(\"Higher HS Graduation Rates: \" + str(df[df[\"percentage_HS_and_Higher\"] > .621].county_index.count()) + \" (over the average)\")\n",
    "print(\"Lower HS Graduation Rates: \" + str(df[df[\"percentage_HS_and_Higher\"] < .621].county_index.count()) + \" (under the average)\")"
   ]
  },
  {
   "cell_type": "code",
   "execution_count": 17,
   "metadata": {},
   "outputs": [],
   "source": [
    "## separate counties by graduation rates\n",
    "## 1 = above average HS graduation rates \n",
    "## 0 = below average HS graduation rates \n",
    "\n",
    "df[\"above_av_grad_rates\"] = df[\"percentage_HS_and_Higher\"].apply(lambda x: 1 if x > .621 else 0)"
   ]
  },
  {
   "cell_type": "code",
   "execution_count": 20,
   "metadata": {},
   "outputs": [
    {
     "name": "stdout",
     "output_type": "stream",
     "text": [
      "Minimum percentage of a county population needing public healthcare in 2019: 23.1%\n",
      "Maximum percentage of a county population needing public healthcare in 2019: 70.5%\n",
      "Average percentage of a county population needing public healthcare in 2019: 42.6%\n",
      "2019 High need counties: 44 (over the average)\n",
      "2019 Low need counties: 43 (under the average)\n"
     ]
    }
   ],
   "source": [
    "## see if I can separate the \"need_coverage\" (2019) column into meaningful categorical data \n",
    "\n",
    "print(\"Minimum percentage of a county population needing public healthcare in 2019: \" + str((round(df[\"percentage_need_coverage\"].min(),3))*100) + \"%\")\n",
    "print(\"Maximum percentage of a county population needing public healthcare in 2019: \" + str((round(df[\"percentage_need_coverage\"].max(),3))*100) + \"%\")\n",
    "print(\"Average percentage of a county population needing public healthcare in 2019: \" + str((round(df[\"percentage_need_coverage\"].mean(),3))*100) + \"%\")\n",
    "\n",
    "print(\"2019 High need counties: \" + str(df[df[\"percentage_need_coverage\"] > .426].county_index.count()) + \" (over the average)\")\n",
    "print(\"2019 Low need counties: \" + str(df[df[\"percentage_need_coverage\"] < .426].county_index.count()) + \" (under the average)\")"
   ]
  },
  {
   "cell_type": "code",
   "execution_count": 21,
   "metadata": {},
   "outputs": [],
   "source": [
    "## separate counties by 2019 public healthcare needs into a categorical value column \n",
    "## 1 = county's public healthcare needs exceed the average (high-need)\n",
    "## 0 = county's public healthcare needs are below the average (low-need)\n",
    "\n",
    "df[\"2019_high_need_counties\"] = df[\"percentage_need_coverage\"].apply(lambda x: 1 if x > .426 else 0)"
   ]
  },
  {
   "cell_type": "code",
   "execution_count": 23,
   "metadata": {},
   "outputs": [],
   "source": [
    "## Now rearrange the columns so they are easy to find and work with \n",
    "\n",
    "df = df[['county_index', \n",
    "         'need_coverage', ## variable from the target year \n",
    "         'percentage_need_coverage', ## linear target variable \n",
    "         '2019_high_need_counties', ## logistic target variable        \n",
    "         \n",
    "         'percentage_no_coverage', \n",
    "         'percentage_Employed',\n",
    "         'percentage_Unemployed', \n",
    "         'percentage_female', \n",
    "         'percentage_male', \n",
    "         'percentage_sixteen_yrs_plus',\n",
    "         'percentage_twentyfive_to_fortyfour_yrs',\n",
    "         'percentage_fortyfive_to_sixtyfour_yrs',\n",
    "         'percentage_sixtyfive_yrs_plus', \n",
    "         'percentage_w_pbcoverage', \n",
    "         'percentage_households_not_receiving_benefits', ## good predictor variables converted to percentages \n",
    "         \n",
    "         'percentage_Grade_School', \n",
    "         'percentage_HS_Diploma_GED',\n",
    "         'percentage_Higher_Ed', \n",
    "         'percentage_HS_and_Higher', ## education variables converted to percentages to continue testing my hypothesis \n",
    "\n",
    "         'county_size', \n",
    "         'above_av_grad_rates', ## generated categorical variable that I think will be usefull in visualizations \n",
    "         'high_need_counties', ## logistic target variable, but from 2014 instead of 2019 \n",
    "                  \n",
    "         '2014%need_coverage', \n",
    "         '2014_need_coverage', ## linear target variables, but from 2014 instead of 2019 \n",
    "         \n",
    "         'total_pop', \n",
    "         'total_pop_male', \n",
    "         'total_pop_female',\n",
    "         'median_age_all', \n",
    "         'median_age_male', \n",
    "         'median_age_female', \n",
    "         '0-17years',\n",
    "         '18-24years', \n",
    "         'twentyfive_to_fortyfour_yrs', \n",
    "         'fortyfive_to_sixtyfour_yrs', \n",
    "         'sixtyfive_yrs_plus', ## population and age breakdowns \n",
    "         \n",
    "         'Employed',\n",
    "         'Unemployed', \n",
    "         'Not_in_Labor_Force', \n",
    "         'total_sixteen_yrs_plus', ## data about the labor force \n",
    "         \n",
    "         'Grade_School', \n",
    "         'HS_Diploma_GED', \n",
    "         'Higher_Ed', ## educational attainment data \n",
    "         \n",
    "         'total_median_income',\n",
    "         'med_income_FT', \n",
    "         'med_income_PT', ## income data \n",
    "         \n",
    "         'total_households', \n",
    "         'households_receiving_benefits',\n",
    "         'households_not_receiving_benefits', ## households receiving SNAP and foodstamps data\n",
    "         \n",
    "         '0-17years_w_coverage', \n",
    "         '0-17years_no_coverage',\n",
    "         '18-24years_w_coverage', \n",
    "         '18-24years_no_coverage',\n",
    "         '25-44years_w_coverage', \n",
    "         '25-44years_no_coverage',\n",
    "         '45-64years_w_coverage', \n",
    "         '45-64years_no_coverage',\n",
    "         '65+years_w_coverage', \n",
    "         '65+years_no_coverage', \n",
    "         'total_w_coverage',\n",
    "         'total_no_coverage', ## population with and without ANY form of healthcare coverage \n",
    "         \n",
    "         '0-17years_w_pvcoverage',\n",
    "         '0-17years_no_pvcoverage', \n",
    "         '18-24years_w_pvcoverage',\n",
    "         '18-24years_no_pvcoverage', \n",
    "         '25-44years_w_pvcoverage',\n",
    "         '25-44years_no_pvcoverage', \n",
    "         '45-64years_w_pvcoverage',\n",
    "         '45-64years_no_pvcoverage', \n",
    "         '65+years_w_pvcoverage',\n",
    "         '65+years_no_pvcoverage', \n",
    "         'total_w_pvcoverage', \n",
    "         'total_no_pvcoverage', ## population with and without a private form of healthcare coverage\n",
    "         \n",
    "         '0-17years_w_pbcoverage', \n",
    "         '0-17years_no_pbcoverage',\n",
    "         '18-24years_w_pbcoverage', \n",
    "         '18-24years_no_pbcoverage',\n",
    "         '25-44years_w_pbcoverage', \n",
    "         '25-44years_no_pbcoverage',\n",
    "         '45-64years_w_pbcoverage', \n",
    "         '45-64years_no_pbcoverage',\n",
    "         '65+years_w_pbcoverage', \n",
    "         '65+years_no_pbcoverage', \n",
    "         'total_w_pbcoverage',\n",
    "         'total_no_pbcoverage' ## population with and without a public form of healthcare coverage\n",
    "         ]]"
   ]
  },
  {
   "cell_type": "markdown",
   "metadata": {},
   "source": [
    "# BEGIN TRYING TO MAKE ACCEPTABLE VISUALIZATIONS "
   ]
  },
  {
   "cell_type": "code",
   "execution_count": 361,
   "metadata": {},
   "outputs": [
    {
     "data": {
      "text/plain": [
       "Text(0, 0.5, 'Median Income for Full Time Workers')"
      ]
     },
     "execution_count": 361,
     "metadata": {},
     "output_type": "execute_result"
    },
    {
     "data": {
      "image/png": "[encoded data removed]",
      "text/plain": [
       "<Figure size 432x288 with 1 Axes>"
      ]
     },
     "metadata": {
      "needs_background": "light"
     },
     "output_type": "display_data"
    }
   ],
   "source": [
    "## Begin to test hypothesis and measure the needs of the county against median income \n",
    "\n",
    "## In this plot we can see that median income becomes more and more \n",
    "## correlated to public healthcare needs as populations grow in size. \n",
    "sns.boxplot(x=\"county_size\", y=\"med_income_FT\", hue=\"high_need_counties\", color=\"green\", data=df )\n",
    "plt.title(\"Median Incomes in High-need and Low-need Counties\")\n",
    "plt.xlabel(\"Counties, by Size\")\n",
    "plt.ylabel(\"Median Income for Full Time Workers\") \n",
    "\n",
    "## Counties with lower median incomes (for full time workers) are more likely to be high-needs in healthcare "
   ]
  },
  {
   "cell_type": "code",
   "execution_count": 42,
   "metadata": {},
   "outputs": [
    {
     "data": {
      "text/plain": [
       "Text(0, 0.5, 'Population without full High School Education')"
      ]
     },
     "execution_count": 42,
     "metadata": {},
     "output_type": "execute_result"
    },
    {
     "data": {
      "image/png": "[encoded data removed]",
      "text/plain": [
       "<Figure size 432x288 with 1 Axes>"
      ]
     },
     "metadata": {
      "needs_background": "light"
     },
     "output_type": "display_data"
    }
   ],
   "source": [
    "## Continue to test hypothesis and measure the needs of the county against educational attainment \n",
    "\n",
    "## In this plot we can see that there is a relationship between higher populations\n",
    "## of people without high school education and a greater need for public healthcare\n",
    "sns.boxplot(x=\"county_size\", y=\"percentage_Grade_School\", hue=\"high_need_counties\", color=\"red\", data=df )\n",
    "plt.title(\"Education Level in High-need and Low-need Counties\")\n",
    "plt.xlabel(\"Counties, by Size\")\n",
    "plt.ylabel(\"Population without full High School Education\") \n",
    "\n",
    "## High needs counties have higher rates of people who did not finish highschool"
   ]
  },
  {
   "cell_type": "code",
   "execution_count": 102,
   "metadata": {},
   "outputs": [
    {
     "data": {
      "text/plain": [
       "Text(0, 0.5, 'Percentage of Unemployment for Population over age 15')"
      ]
     },
     "execution_count": 102,
     "metadata": {},
     "output_type": "execute_result"
    },
    {
     "data": {
      "image/png": "[encoded data removed]",
      "text/plain": [
       "<Figure size 432x288 with 1 Axes>"
      ]
     },
     "metadata": {
      "needs_background": "light"
     },
     "output_type": "display_data"
    }
   ],
   "source": [
    "## In this plot we can see that there is a relationship unemployment rates and need for public healthcare\n",
    "\n",
    "sns.boxplot(x=\"county_size\", y=\"percentage_Unemployed\", hue=\"high_need_counties\", color=\"blue\", data=df )\n",
    "plt.title(\"Unemployment Rates in High-need and Low-need Counties\")\n",
    "plt.xlabel(\"Counties, by Size\")\n",
    "plt.ylabel(\"Percentage of Unemployment for Population over age 15\") \n",
    "\n",
    "## the relationship is particularly stressed when noticing high unemployment outliers in the smallest counties \n",
    "## although, those outliers could have other explanations like employment being underreported in rural areas "
   ]
  },
  {
   "cell_type": "code",
   "execution_count": 103,
   "metadata": {},
   "outputs": [
    {
     "data": {
      "text/plain": [
       "Text(0, 0.5, 'Percentage of population without private healthcare')"
      ]
     },
     "execution_count": 103,
     "metadata": {},
     "output_type": "execute_result"
    },
    {
     "data": {
      "image/png": "[encoded data removed]",
      "text/plain": [
       "<Figure size 432x288 with 1 Axes>"
      ]
     },
     "metadata": {
      "needs_background": "light"
     },
     "output_type": "display_data"
    }
   ],
   "source": [
    "## this one does not strongly support the hypothesis as much as the other plots above \n",
    "## interestingly, this is defining \"needs\" using the target 2019 variable for the first time \n",
    "\n",
    "sns.barplot(x=\"county_size\",y = \"percentage_need_coverage\", hue=\"above_av_grad_rates\", data=df)\n",
    "plt.xlabel(\"Counties, by Size\")\n",
    "plt.ylabel(\"Percentage of population without private healthcare\") "
   ]
  },
  {
   "cell_type": "code",
   "execution_count": 46,
   "metadata": {},
   "outputs": [
    {
     "data": {
      "text/plain": [
       "<seaborn.axisgrid.FacetGrid at 0x1aef7797700>"
      ]
     },
     "execution_count": 46,
     "metadata": {},
     "output_type": "execute_result"
    },
    {
     "data": {
      "image/png": "[encoded data removed]",
      "text/plain": [
       "<Figure size 360x360 with 1 Axes>"
      ]
     },
     "metadata": {
      "needs_background": "light"
     },
     "output_type": "display_data"
    }
   ],
   "source": [
    "## this loosely correlates higher median income to lower median age\n",
    "sns.lmplot(x=\"median_age_all\", y=\"med_income_FT\", data=df)"
   ]
  },
  {
   "cell_type": "code",
   "execution_count": 47,
   "metadata": {},
   "outputs": [
    {
     "data": {
      "text/plain": [
       "<seaborn.axisgrid.FacetGrid at 0x1aef782cdf0>"
      ]
     },
     "execution_count": 47,
     "metadata": {},
     "output_type": "execute_result"
    },
    {
     "data": {
      "image/png": "[encoded data removed]",
      "text/plain": [
       "<Figure size 360x360 with 1 Axes>"
      ]
     },
     "metadata": {
      "needs_background": "light"
     },
     "output_type": "display_data"
    }
   ],
   "source": [
    "## flip the variables around to see the correlation more clearly  \n",
    "sns.lmplot(x=\"med_income_FT\", y=\"median_age_all\", data=df)"
   ]
  },
  {
   "cell_type": "code",
   "execution_count": 367,
   "metadata": {},
   "outputs": [
    {
     "data": {
      "text/plain": [
       "<seaborn.axisgrid.JointGrid at 0x2655ea79bb0>"
      ]
     },
     "execution_count": 367,
     "metadata": {},
     "output_type": "execute_result"
    },
    {
     "data": {
      "image/png": "[encoded data removed]",
      "text/plain": [
       "<Figure size 432x432 with 3 Axes>"
      ]
     },
     "metadata": {
      "needs_background": "light"
     },
     "output_type": "display_data"
    }
   ],
   "source": [
    "## this plot and the plot below indicate that educational attainment is somewhat correlated \n",
    "## to public healthcare needs, but largely within the same time frame, not as a future predictor \n",
    "\n",
    "sns.jointplot(x=\"percentage_Grade_School\",y=\"2014%need_coverage\",data=df, color=\"purple\")"
   ]
  },
  {
   "cell_type": "code",
   "execution_count": 368,
   "metadata": {},
   "outputs": [
    {
     "data": {
      "text/plain": [
       "<seaborn.axisgrid.JointGrid at 0x2655ebabd00>"
      ]
     },
     "execution_count": 368,
     "metadata": {},
     "output_type": "execute_result"
    },
    {
     "data": {
      "image/png": "[encoded data removed]",
      "text/plain": [
       "<Figure size 432x432 with 3 Axes>"
      ]
     },
     "metadata": {
      "needs_background": "light"
     },
     "output_type": "display_data"
    }
   ],
   "source": [
    "## this plot and the plot above indicate that educational attainment is somewhat correlated \n",
    "## to public healthcare needs, but largely within the same time frame, not as a future predictor \n",
    "\n",
    "sns.jointplot(x=\"percentage_Grade_School\",y=\"percentage_need_coverage\",data=df) ## dependent variable"
   ]
  },
  {
   "cell_type": "code",
   "execution_count": 50,
   "metadata": {},
   "outputs": [
    {
     "data": {
      "text/plain": [
       "[<matplotlib.axis.YTick at 0x1aef7a7adf0>,\n",
       " <matplotlib.axis.YTick at 0x1aef7a7a9d0>,\n",
       " <matplotlib.axis.YTick at 0x1aef7a76970>,\n",
       " <matplotlib.axis.YTick at 0x1aef7af6850>,\n",
       " <matplotlib.axis.YTick at 0x1aef7af6d60>,\n",
       " <matplotlib.axis.YTick at 0x1aef7afc2b0>]"
      ]
     },
     "execution_count": 50,
     "metadata": {},
     "output_type": "execute_result"
    },
    {
     "data": {
      "image/png": "[encoded data removed]",
      "text/plain": [
       "<Figure size 1080x504 with 2 Axes>"
      ]
     },
     "metadata": {
      "needs_background": "light"
     },
     "output_type": "display_data"
    }
   ],
   "source": [
    "### violin plots\n",
    "### was using plotly originally, but being interactive was not a necessary component \n",
    "\n",
    "f, ax = plt.subplots(1,2,figsize=(15,7))\n",
    "sns.violinplot(\"county_size\", \"median_age_all\", hue=\"high_need_counties\", color=\"Purple\", data= df, split=True, ax = ax[0]) \n",
    "ax[0].set_title(\"County Size & Median Age vs. Needs\") \n",
    "ax[0].set_yticks(range(25,65,10)) \n",
    "sns.violinplot(\"above_av_grad_rates\", \"med_income_FT\", hue=\"high_need_counties\", color=\"Orange\", data= df, split=True, ax = ax[1]) \n",
    "ax[1].set_title(\"Educational Attainment & Income vs. Needs\")\n",
    "ax[1].set_yticks(range(25000,80000,10000))\n",
    "\n",
    "## in the first plot, we can see higher median age correlating to higher public healthcare needs\n",
    "## in the second plot, we see graduation rates having little impact on median income for either"
   ]
  },
  {
   "cell_type": "code",
   "execution_count": 371,
   "metadata": {},
   "outputs": [
    {
     "data": {
      "text/plain": [
       "(array([ 1.02587346,  6.4971986 , 10.60069245,  5.47132514,  4.10349385,\n",
       "         1.02587346,  0.68391564,  0.34195782]),\n",
       " array([0.28891724, 0.32253032, 0.35614339, 0.38975646, 0.42336953,\n",
       "        0.4569826 , 0.49059568, 0.52420875, 0.55782182]),\n",
       " <a list of 8 Patch objects>)"
      ]
     },
     "execution_count": 371,
     "metadata": {},
     "output_type": "execute_result"
    },
    {
     "data": {
      "image/png": "[encoded data removed]",
      "text/plain": [
       "<Figure size 432x288 with 3 Axes>"
      ]
     },
     "metadata": {
      "needs_background": "light"
     },
     "output_type": "display_data"
    }
   ],
   "source": [
    "## quick histogram to explore the rates of education attainment throughout the State \n",
    "## these plots do not shed much light on the data because the scales of the plots differ \n",
    "\n",
    "plt.subplot(131)\n",
    "plt.hist(df[\"percentage_Grade_School\"], 8, density=1, facecolor='r')\n",
    "plt.subplot(132)\n",
    "plt.hist(df[\"percentage_HS_Diploma_GED\"], 8, density=1, facecolor='b')\n",
    "plt.subplot(133)\n",
    "plt.hist(df[\"percentage_Higher_Ed\"], 8, density=1, facecolor='g')"
   ]
  },
  {
   "cell_type": "code",
   "execution_count": 60,
   "metadata": {},
   "outputs": [
    {
     "data": {
      "text/plain": [
       "(array([ 1.02587346,  2.56468366,  7.69405097, 10.77167136,  9.7457979 ,\n",
       "         3.59055712,  5.12936731,  1.02587346,  1.53881019,  1.02587346,\n",
       "         0.        ,  0.51293673]),\n",
       " array([0.28891724, 0.31132596, 0.33373467, 0.35614339, 0.3785521 ,\n",
       "        0.40096082, 0.42336953, 0.44577825, 0.46818696, 0.49059568,\n",
       "        0.51300439, 0.53541311, 0.55782182]),\n",
       " <a list of 12 Patch objects>)"
      ]
     },
     "execution_count": 60,
     "metadata": {},
     "output_type": "execute_result"
    },
    {
     "data": {
      "image/png": "[encoded data removed]",
      "text/plain": [
       "<Figure size 432x288 with 1 Axes>"
      ]
     },
     "metadata": {
      "needs_background": "light"
     },
     "output_type": "display_data"
    }
   ],
   "source": [
    "## originally, this was 3 separate adjacent plots, but the scales were different \n",
    "## the data is clearer if we put the histograms in overlapping plots \n",
    "## we can see that education attainment (highschool graduation and beyond) is high\n",
    "\n",
    "plt.hist(df[\"percentage_Grade_School\"], 12, density=1, facecolor='r')\n",
    "plt.hist(df[\"percentage_HS_Diploma_GED\"], 12, density=1, facecolor='b')\n",
    "plt.hist(df[\"percentage_Higher_Ed\"], 12, density=1, facecolor='g')\n"
   ]
  },
  {
   "cell_type": "code",
   "execution_count": null,
   "metadata": {},
   "outputs": [],
   "source": [
    "## that went well"
   ]
  },
  {
   "cell_type": "markdown",
   "metadata": {},
   "source": [
    "## NOW MOVING ON TO ADDING LINEAR REGRESSION MODELS"
   ]
  },
  {
   "cell_type": "code",
   "execution_count": 104,
   "metadata": {},
   "outputs": [
    {
     "name": "stdout",
     "output_type": "stream",
     "text": [
      "R^2 = 0.5220283411598641\n"
     ]
    }
   ],
   "source": [
    "## multivariate linear regression model to predict `need_coverage` using all of the other variables\n",
    "## this will establish the baseline usefullness of the variables\n",
    "## original models from a previous project draft with less feature engineering were around 36%\n",
    "\n",
    "X = df.iloc[:,4:] ## all columns and rows 4-end (exclude county name and dependent variable)\n",
    "Y = df[\"need_coverage\"] \n",
    " \n",
    "lr = linear_model.LinearRegression() \n",
    "\n",
    "model_0 = lr.fit(X, Y) \n",
    "\n",
    "## Calculating the R^2 of our model \n",
    "print(\"R^2 = \" + str(model_0.score(X, Y))) "
   ]
  },
  {
   "cell_type": "code",
   "execution_count": 95,
   "metadata": {},
   "outputs": [
    {
     "data": {
      "text/html": [
       "<div>\n",
       "<style scoped>\n",
       "    .dataframe tbody tr th:only-of-type {\n",
       "        vertical-align: middle;\n",
       "    }\n",
       "\n",
       "    .dataframe tbody tr th {\n",
       "        vertical-align: top;\n",
       "    }\n",
       "\n",
       "    .dataframe thead th {\n",
       "        text-align: right;\n",
       "    }\n",
       "</style>\n",
       "<table border=\"1\" class=\"dataframe\">\n",
       "  <thead>\n",
       "    <tr style=\"text-align: right;\">\n",
       "      <th></th>\n",
       "      <th>county_index</th>\n",
       "      <th>need_coverage</th>\n",
       "      <th>percentage_need_coverage</th>\n",
       "      <th>2019_high_need_counties</th>\n",
       "      <th>percentage_no_coverage</th>\n",
       "      <th>percentage_Employed</th>\n",
       "      <th>percentage_Unemployed</th>\n",
       "      <th>percentage_female</th>\n",
       "      <th>percentage_male</th>\n",
       "      <th>percentage_sixteen_yrs_plus</th>\n",
       "      <th>...</th>\n",
       "      <th>18-24years_w_pbcoverage</th>\n",
       "      <th>18-24years_no_pbcoverage</th>\n",
       "      <th>25-44years_w_pbcoverage</th>\n",
       "      <th>25-44years_no_pbcoverage</th>\n",
       "      <th>45-64years_w_pbcoverage</th>\n",
       "      <th>45-64years_no_pbcoverage</th>\n",
       "      <th>65+years_w_pbcoverage</th>\n",
       "      <th>65+years_no_pbcoverage</th>\n",
       "      <th>total_w_pbcoverage</th>\n",
       "      <th>total_no_pbcoverage</th>\n",
       "    </tr>\n",
       "  </thead>\n",
       "  <tbody>\n",
       "    <tr>\n",
       "      <th>0</th>\n",
       "      <td>Aitkin County</td>\n",
       "      <td>9657</td>\n",
       "      <td>0.417961</td>\n",
       "      <td>0</td>\n",
       "      <td>0.081809</td>\n",
       "      <td>0.409108</td>\n",
       "      <td>0.036081</td>\n",
       "      <td>0.492420</td>\n",
       "      <td>0.507580</td>\n",
       "      <td>0.846279</td>\n",
       "      <td>...</td>\n",
       "      <td>224</td>\n",
       "      <td>576</td>\n",
       "      <td>623</td>\n",
       "      <td>1942</td>\n",
       "      <td>1330</td>\n",
       "      <td>3791</td>\n",
       "      <td>4432</td>\n",
       "      <td>51</td>\n",
       "      <td>7620</td>\n",
       "      <td>8150</td>\n",
       "    </tr>\n",
       "    <tr>\n",
       "      <th>1</th>\n",
       "      <td>Anoka County</td>\n",
       "      <td>23543</td>\n",
       "      <td>0.355715</td>\n",
       "      <td>0</td>\n",
       "      <td>0.073229</td>\n",
       "      <td>0.531173</td>\n",
       "      <td>0.041042</td>\n",
       "      <td>0.499869</td>\n",
       "      <td>0.500131</td>\n",
       "      <td>0.779383</td>\n",
       "      <td>...</td>\n",
       "      <td>4087</td>\n",
       "      <td>22931</td>\n",
       "      <td>12140</td>\n",
       "      <td>78000</td>\n",
       "      <td>12293</td>\n",
       "      <td>84246</td>\n",
       "      <td>34861</td>\n",
       "      <td>935</td>\n",
       "      <td>81594</td>\n",
       "      <td>252118</td>\n",
       "    </tr>\n",
       "    <tr>\n",
       "      <th>2</th>\n",
       "      <td>Becker County</td>\n",
       "      <td>1675</td>\n",
       "      <td>0.417186</td>\n",
       "      <td>0</td>\n",
       "      <td>0.115253</td>\n",
       "      <td>0.475205</td>\n",
       "      <td>0.022505</td>\n",
       "      <td>0.497862</td>\n",
       "      <td>0.502138</td>\n",
       "      <td>0.782294</td>\n",
       "      <td>...</td>\n",
       "      <td>627</td>\n",
       "      <td>1606</td>\n",
       "      <td>1374</td>\n",
       "      <td>5625</td>\n",
       "      <td>1859</td>\n",
       "      <td>7637</td>\n",
       "      <td>5664</td>\n",
       "      <td>81</td>\n",
       "      <td>12292</td>\n",
       "      <td>20292</td>\n",
       "    </tr>\n",
       "    <tr>\n",
       "      <th>3</th>\n",
       "      <td>Beltrami County</td>\n",
       "      <td>21273</td>\n",
       "      <td>0.335293</td>\n",
       "      <td>0</td>\n",
       "      <td>0.139955</td>\n",
       "      <td>0.449642</td>\n",
       "      <td>0.055730</td>\n",
       "      <td>0.499204</td>\n",
       "      <td>0.500796</td>\n",
       "      <td>0.776616</td>\n",
       "      <td>...</td>\n",
       "      <td>1339</td>\n",
       "      <td>5166</td>\n",
       "      <td>2752</td>\n",
       "      <td>7247</td>\n",
       "      <td>2354</td>\n",
       "      <td>8663</td>\n",
       "      <td>5758</td>\n",
       "      <td>132</td>\n",
       "      <td>17122</td>\n",
       "      <td>27610</td>\n",
       "    </tr>\n",
       "    <tr>\n",
       "      <th>4</th>\n",
       "      <td>Benton County</td>\n",
       "      <td>9013</td>\n",
       "      <td>0.430235</td>\n",
       "      <td>1</td>\n",
       "      <td>0.091739</td>\n",
       "      <td>0.505413</td>\n",
       "      <td>0.044510</td>\n",
       "      <td>0.500436</td>\n",
       "      <td>0.499564</td>\n",
       "      <td>0.776372</td>\n",
       "      <td>...</td>\n",
       "      <td>864</td>\n",
       "      <td>2675</td>\n",
       "      <td>2115</td>\n",
       "      <td>9087</td>\n",
       "      <td>1543</td>\n",
       "      <td>7985</td>\n",
       "      <td>4516</td>\n",
       "      <td>47</td>\n",
       "      <td>11795</td>\n",
       "      <td>26670</td>\n",
       "    </tr>\n",
       "  </tbody>\n",
       "</table>\n",
       "<p>5 rows × 84 columns</p>\n",
       "</div>"
      ],
      "text/plain": [
       "      county_index  need_coverage  percentage_need_coverage  \\\n",
       "0    Aitkin County           9657                  0.417961   \n",
       "1     Anoka County          23543                  0.355715   \n",
       "2    Becker County           1675                  0.417186   \n",
       "3  Beltrami County          21273                  0.335293   \n",
       "4    Benton County           9013                  0.430235   \n",
       "\n",
       "   2019_high_need_counties  percentage_no_coverage  percentage_Employed  \\\n",
       "0                        0                0.081809             0.409108   \n",
       "1                        0                0.073229             0.531173   \n",
       "2                        0                0.115253             0.475205   \n",
       "3                        0                0.139955             0.449642   \n",
       "4                        1                0.091739             0.505413   \n",
       "\n",
       "   percentage_Unemployed  percentage_female  percentage_male  \\\n",
       "0               0.036081           0.492420         0.507580   \n",
       "1               0.041042           0.499869         0.500131   \n",
       "2               0.022505           0.497862         0.502138   \n",
       "3               0.055730           0.499204         0.500796   \n",
       "4               0.044510           0.500436         0.499564   \n",
       "\n",
       "   percentage_sixteen_yrs_plus  ...  18-24years_w_pbcoverage  \\\n",
       "0                     0.846279  ...                      224   \n",
       "1                     0.779383  ...                     4087   \n",
       "2                     0.782294  ...                      627   \n",
       "3                     0.776616  ...                     1339   \n",
       "4                     0.776372  ...                      864   \n",
       "\n",
       "   18-24years_no_pbcoverage  25-44years_w_pbcoverage  \\\n",
       "0                       576                      623   \n",
       "1                     22931                    12140   \n",
       "2                      1606                     1374   \n",
       "3                      5166                     2752   \n",
       "4                      2675                     2115   \n",
       "\n",
       "   25-44years_no_pbcoverage  45-64years_w_pbcoverage  \\\n",
       "0                      1942                     1330   \n",
       "1                     78000                    12293   \n",
       "2                      5625                     1859   \n",
       "3                      7247                     2354   \n",
       "4                      9087                     1543   \n",
       "\n",
       "   45-64years_no_pbcoverage  65+years_w_pbcoverage  65+years_no_pbcoverage  \\\n",
       "0                      3791                   4432                      51   \n",
       "1                     84246                  34861                     935   \n",
       "2                      7637                   5664                      81   \n",
       "3                      8663                   5758                     132   \n",
       "4                      7985                   4516                      47   \n",
       "\n",
       "   total_w_pbcoverage  total_no_pbcoverage  \n",
       "0                7620                 8150  \n",
       "1               81594               252118  \n",
       "2               12292                20292  \n",
       "3               17122                27610  \n",
       "4               11795                26670  \n",
       "\n",
       "[5 rows x 84 columns]"
      ]
     },
     "execution_count": 95,
     "metadata": {},
     "output_type": "execute_result"
    }
   ],
   "source": [
    "df.head()"
   ]
  },
  {
   "cell_type": "code",
   "execution_count": 65,
   "metadata": {},
   "outputs": [
    {
     "name": "stdout",
     "output_type": "stream",
     "text": [
      "R^2 = 0.661615558664994\n"
     ]
    }
   ],
   "source": [
    "## multivariate linear regression model to predict `percentage_need_coverage` using all of the other variables\n",
    "## this will establish the baseline usefullness of the variables and show that \n",
    "## the percentage of the population that need coverage is an easier variable to model and predict \n",
    "## original models from a previous project draft with less feature engineering were around 45%\n",
    "\n",
    "X = df.iloc[:,4:] ## all columns and rows 4-end (exclude county name and dependent variable)\n",
    "Y = df[\"percentage_need_coverage\"] \n",
    "\n",
    "model_1 = lr.fit(X, Y) \n",
    "\n",
    "print(\"R^2 = \" + str(model_1.score(X, Y))) "
   ]
  },
  {
   "cell_type": "code",
   "execution_count": 570,
   "metadata": {},
   "outputs": [],
   "source": [
    "## it appears as if the above feature engineering has increased model accuracy"
   ]
  },
  {
   "cell_type": "code",
   "execution_count": 77,
   "metadata": {},
   "outputs": [],
   "source": [
    "## now lets use RFE to narrow down our variables \n",
    "X = df.drop(columns=['county_index', 'need_coverage', 'percentage_need_coverage','2019_high_need_counties'], axis = 1)\n",
    "Y = df[\"percentage_need_coverage\"]\n",
    "\n",
    "rfe = RFE(lr, n_features_to_select=10)\n",
    "model_RFE = rfe.fit(X,Y)\n",
    "\n",
    "## still can't figure out why this RFE includes excluded variables, tried several different ways \n",
    "\n",
    "print(\"Ideal features for target variable prediction:\")\n",
    "print(sorted(zip(map(lambda X: round(X, 4), rfe.ranking_), df.columns)))"
   ]
  },
  {
   "cell_type": "code",
   "execution_count": 76,
   "metadata": {},
   "outputs": [
    {
     "name": "stdout",
     "output_type": "stream",
     "text": [
      "R^2 = 0.19369382645120226\n"
     ]
    }
   ],
   "source": [
    "## using the 20 best variables from the RFE\n",
    "\n",
    "X = df[[\n",
    "'0-17years_no_pbcoverage',\n",
    "'18-24years_no_pbcoverage',\n",
    "'2014_need_coverage',\n",
    "'25-44years_no_pbcoverage',\n",
    "'percentage_Employed',\n",
    "'percentage_Grade_School',\n",
    "'percentage_HS_and_Higher',\n",
    "'percentage_Higher_Ed',\n",
    "'percentage_Unemployed',\n",
    "'percentage_female',\n",
    "'percentage_fortyfive_to_sixtyfour_yrs',\n",
    "'percentage_households_not_receiving_benefits',\n",
    "'percentage_male',\n",
    "'percentage_no_coverage',\n",
    "'percentage_sixteen_yrs_plus',\n",
    "'percentage_sixtyfive_yrs_plus',\n",
    "'percentage_twentyfive_to_fortyfour_yrs',\n",
    "'percentage_w_pbcoverage',\n",
    "'total_pop',\n",
    "'total_pop_male'\n",
    "]]\n",
    "\n",
    "X = sm.add_constant(X) # Adding a constant\n",
    "Y = df[\"percentage_need_coverage\"] \n",
    "\n",
    "model_2 = lr.fit(X, Y) \n",
    "print(\"R^2 = \" + str(model_2.score(X, Y))) \n"
   ]
  },
  {
   "cell_type": "code",
   "execution_count": 81,
   "metadata": {},
   "outputs": [
    {
     "name": "stdout",
     "output_type": "stream",
     "text": [
      "R^2 = 0.5044763593662964\n"
     ]
    }
   ],
   "source": [
    "## expanding variables a bit further with another RFE for 50 variables \n",
    "\n",
    "X = df[[\n",
    "'0-17years_no_pbcoverage',\n",
    "'0-17years_no_pvcoverage',\n",
    "'0-17years_w_coverage',\n",
    "'0-17years_w_pvcoverage',\n",
    "'18-24years_no_pbcoverage',\n",
    "'18-24years_no_pvcoverage',\n",
    "'18-24years_w_coverage',\n",
    "'18-24years_w_pvcoverage',\n",
    "'2014_need_coverage',\n",
    "'25-44years_no_pbcoverage',\n",
    "'45-64years_no_coverage',\n",
    "'45-64years_no_pbcoverage',\n",
    "'45-64years_no_pvcoverage',\n",
    "'45-64years_w_coverage',\n",
    "'45-64years_w_pvcoverage',\n",
    "'65+years_no_coverage',\n",
    "'65+years_w_pvcoverage',\n",
    "'Employed',\n",
    "'Not_in_Labor_Force',\n",
    "'Unemployed',\n",
    "'above_av_grad_rates',\n",
    "'county_size', \n",
    "'fortyfive_to_sixtyfour_yrs',\n",
    "'high_need_counties',\n",
    "'median_age_all',\n",
    "'median_age_female',\n",
    "'median_age_male',\n",
    "'percentage_Employed',\n",
    "'percentage_Grade_School',\n",
    "'percentage_HS_Diploma_GED',\n",
    "'percentage_HS_and_Higher',\n",
    "'percentage_Higher_Ed',\n",
    "'percentage_Unemployed',\n",
    "'percentage_female',\n",
    "'percentage_fortyfive_to_sixtyfour_yrs',\n",
    "'percentage_households_not_receiving_benefits',\n",
    "'percentage_male',\n",
    "'percentage_no_coverage',\n",
    "'percentage_sixteen_yrs_plus',\n",
    "'percentage_sixtyfive_yrs_plus',\n",
    "'percentage_twentyfive_to_fortyfour_yrs',\n",
    "'percentage_w_pbcoverage',\n",
    "'total_households',\n",
    "'total_no_pvcoverage',\n",
    "'total_pop',\n",
    "'total_pop_female',\n",
    "'total_pop_male',\n",
    "'total_w_coverage',\n",
    "'total_w_pvcoverage',\n",
    "'twentyfive_to_fortyfour_yrs']]\n",
    "\n",
    "X = sm.add_constant(X) # Adding a constant\n",
    "Y = df[\"percentage_need_coverage\"] \n",
    "lr = linear_model.LinearRegression() \n",
    "model_3 = lr.fit(X, Y) \n",
    "print(\"R^2 = \" + str(model_3.score(X, Y))) "
   ]
  },
  {
   "cell_type": "code",
   "execution_count": 382,
   "metadata": {},
   "outputs": [],
   "source": [
    "## pause here, narrow down ideal variables after mentor meeting "
   ]
  },
  {
   "cell_type": "markdown",
   "metadata": {},
   "source": [
    "## TAKE A SWING AT A LOGISTIC REGRESSION "
   ]
  },
  {
   "cell_type": "code",
   "execution_count": 385,
   "metadata": {},
   "outputs": [],
   "source": [
    "## let's run another RFE but to predict \"high_need_counties\"\n",
    "\n",
    "X = df.iloc[:,4:]\n",
    "Y = df[\"2019_high_need_counties\"]\n",
    "\n",
    "rfe = RFE(lr, n_features_to_select=13)\n",
    "model_RFE2 = rfe.fit(X,Y)\n",
    "\n",
    "print(\"Ideal features for target variable prediction:\")\n",
    "print(sorted(zip(map(lambda x: round(x, 4), rfe.ranking_), df.columns)))"
   ]
  },
  {
   "cell_type": "code",
   "execution_count": 386,
   "metadata": {},
   "outputs": [
    {
     "name": "stdout",
     "output_type": "stream",
     "text": [
      "Ideal features for target variable prediction:\n",
      "[(1, '2019_high_need_counties'), (1, 'county_index'), (1, 'need_coverage'), (1, 'percent_need_coverage'), (1, 'percentage_Employed'), (1, 'percentage_HS_and_Higher'), (1, 'percentage_Higher_Ed'), (1, 'percentage_female'), (1, 'percentage_male'), (1, 'percentage_no_coverage'), (1, 'percentage_sixteen_yrs_plus'), (1, 'percentage_sixtyfive_yrs_plus'), (1, 'percentage_twentyfive_to_fortyfour_yrs'), (2, 'percentage_fortyfive_to_sixtyfour_yrs'), (3, 'percentage_HS_Diploma_GED'), (4, 'percentage_households_not_receiving_benefits'), (5, 'percentage_w_pbcoverage'), (6, 'percentage_Unemployed'), (7, 'total_pop_male'), (8, 'percentage_Grade_School'), (9, '2014_need_coverage'), (10, 'total_pop'), (11, 'total_no_coverage'), (12, 'median_age_all'), (13, 'total_w_coverage'), (14, '0-17years_no_pbcoverage'), (15, 'median_age_male'), (16, '18-24years_w_pbcoverage'), (17, '18-24years_no_pbcoverage'), (18, 'median_age_female'), (19, '0-17years_w_pbcoverage'), (20, 'total_no_pvcoverage'), (21, '25-44years_w_coverage'), (22, '25-44years_w_pbcoverage'), (23, 'Unemployed'), (24, 'Not_in_Labor_Force'), (25, 'med_income_PT'), (26, '25-44years_no_pbcoverage'), (27, 'high_need_counties'), (28, '2014%need_coverage'), (29, '65+years_no_pvcoverage'), (30, '45-64years_no_pvcoverage'), (31, '0-17years_w_pvcoverage'), (32, '0-17years_w_coverage'), (33, 'sixtyfive_yrs_plus'), (34, 'households_not_receiving_benefits'), (35, '18-24years'), (36, '65+years_no_coverage'), (37, '18-24years_no_pvcoverage'), (38, 'county_size'), (39, '45-64years_no_pbcoverage'), (40, '45-64years_w_pvcoverage'), (41, '45-64years_w_pbcoverage'), (42, 'total_median_income'), (43, '18-24years_w_pvcoverage'), (44, 'above_av_grad_rates'), (45, '45-64years_no_coverage'), (46, 'total_pop_female'), (47, 'total_households'), (48, '0-17years'), (49, '65+years_w_pvcoverage'), (50, 'fortyfive_to_sixtyfour_yrs'), (51, '25-44years_w_pvcoverage'), (52, 'households_receiving_benefits'), (53, '0-17years_no_pvcoverage'), (54, '45-64years_w_coverage'), (55, '18-24years_w_coverage'), (56, '18-24years_no_coverage'), (57, 'med_income_FT'), (58, '0-17years_no_coverage'), (59, '65+years_w_coverage'), (60, 'total_w_pvcoverage'), (61, '25-44years_no_pvcoverage'), (62, 'twentyfive_to_fortyfour_yrs'), (63, 'Employed'), (64, 'Higher_Ed'), (65, 'total_sixteen_yrs_plus'), (66, '25-44years_no_coverage'), (67, 'Grade_School'), (68, 'HS_Diploma_GED')]\n"
     ]
    }
   ],
   "source": [
    "print(\"Ideal features for target variable prediction:\")\n",
    "print(sorted(zip(map(lambda x: round(x, 4), rfe.ranking_), df.columns)))"
   ]
  },
  {
   "cell_type": "code",
   "execution_count": 387,
   "metadata": {},
   "outputs": [
    {
     "data": {
      "text/plain": [
       "('percentage_sixtyfive_yrs_plus', 'percentage_twentyfive_to_fortyfour_yrs')"
      ]
     },
     "execution_count": 387,
     "metadata": {},
     "output_type": "execute_result"
    }
   ],
   "source": [
    "## with these variables accuracy is 39%, [[0,11],[0,7]] with all counties predicted to be high-need, test_size=0.2\n",
    "'percentage_Employed', 'percentage_HS_and_Higher', 'percentage_Higher_Ed', 'percentage_female',\n",
    "'percentage_male','percentage_no_coverage','percentage_sixteen_yrs_plus',\n",
    "'percentage_sixtyfive_yrs_plus', 'percentage_twentyfive_to_fortyfour_yrs'\n",
    "## reducing test_size to .1 from .2 to hopefully increase effectiveness of the model \n",
    "## accuracy increased to 56% using a larger training set of data "
   ]
  },
  {
   "cell_type": "code",
   "execution_count": 388,
   "metadata": {},
   "outputs": [
    {
     "data": {
      "text/plain": [
       "'2014_need_coverage'"
      ]
     },
     "execution_count": 388,
     "metadata": {},
     "output_type": "execute_result"
    }
   ],
   "source": [
    "## with these variables accuracy is 44%, [[2,9],[1,6]] with ten counties still classed incorrectly, test_size=0.2\n",
    "'percentage_no_coverage','percentage_Employed','percentage_Unemployed', \n",
    "'percentage_female','percentage_male','percentage_sixteen_yrs_plus',\n",
    "'percentage_twentyfive_to_fortyfour_yrs','percentage_fortyfive_to_sixtyfour_yrs',\n",
    "'percentage_sixtyfive_yrs_plus','percentage_w_pbcoverage',\n",
    "'percentage_households_not_receiving_benefits','percentage_Grade_School', \n",
    "'percentage_HS_Diploma_GED','percentage_Higher_Ed','percentage_HS_and_Higher', \n",
    "'county_size','above_av_grad_rates','high_need_counties','2014%need_coverage', \n",
    "'2014_need_coverage'\n",
    "## reducing test_size to .1 from .2 to hopefully increase effectiveness of the model \n",
    "## accuracy increased to 56% using a larger training set of data "
   ]
  },
  {
   "cell_type": "code",
   "execution_count": 389,
   "metadata": {},
   "outputs": [
    {
     "data": {
      "text/plain": [
       "('percentage_Employed', 'percentage_Unemployed')"
      ]
     },
     "execution_count": 389,
     "metadata": {},
     "output_type": "execute_result"
    }
   ],
   "source": [
    "## most accurate and variable efficient model \n",
    "## 56% accuracy at test_size=0.1  [[2,3],[2,2]]\n",
    "'percentage_no_coverage','percentage_w_pbcoverage',\n",
    "'percentage_HS_Diploma_GED','percentage_Grade_School',\n",
    "'above_av_grad_rates','median_age_all','2014%need_coverage',\n",
    "'percentage_Employed','percentage_Unemployed'\n",
    "## 33% accuracy at test_size=0.2 [[0,11],[1,6]]"
   ]
  },
  {
   "cell_type": "code",
   "execution_count": 105,
   "metadata": {},
   "outputs": [],
   "source": [
    "### Logistic regression with sklearn \n",
    "## most accurate and variable efficient model \n",
    "## 56% accuracy at test_size=0.1  [[2,3],[2,2]]\n",
    "\n",
    "from sklearn.model_selection import train_test_split \n",
    "from sklearn.linear_model import LogisticRegression \n",
    "from sklearn.metrics import classification_report \n",
    "\n",
    "X = df[['percentage_no_coverage','percentage_w_pbcoverage',\n",
    "'percentage_HS_Diploma_GED','percentage_Grade_School',\n",
    "'above_av_grad_rates','median_age_all','2014%need_coverage',\n",
    "'percentage_Employed','percentage_Unemployed']]\n",
    "\n",
    "y = df[\"2019_high_need_counties\"] "
   ]
  },
  {
   "cell_type": "code",
   "execution_count": 106,
   "metadata": {},
   "outputs": [],
   "source": [
    "X_train, X_test, y_train, y_test = train_test_split(X, y, test_size=0.1, random_state=87)"
   ]
  },
  {
   "cell_type": "code",
   "execution_count": 110,
   "metadata": {},
   "outputs": [
    {
     "data": {
      "text/plain": [
       "LogisticRegression(solver='liblinear')"
      ]
     },
     "execution_count": 110,
     "metadata": {},
     "output_type": "execute_result"
    }
   ],
   "source": [
    "logmodel = LogisticRegression(solver=\"liblinear\") \n",
    "logmodel.fit(X_train,y_train) "
   ]
  },
  {
   "cell_type": "code",
   "execution_count": 111,
   "metadata": {},
   "outputs": [],
   "source": [
    "predictions = logmodel.predict(X_test) "
   ]
  },
  {
   "cell_type": "code",
   "execution_count": 112,
   "metadata": {},
   "outputs": [
    {
     "name": "stdout",
     "output_type": "stream",
     "text": [
      "              precision    recall  f1-score   support\n",
      "\n",
      "           0       0.50      0.50      0.50         4\n",
      "           1       0.60      0.60      0.60         5\n",
      "\n",
      "    accuracy                           0.56         9\n",
      "   macro avg       0.55      0.55      0.55         9\n",
      "weighted avg       0.56      0.56      0.56         9\n",
      "\n"
     ]
    }
   ],
   "source": [
    "print(classification_report(y_test,predictions)) "
   ]
  },
  {
   "cell_type": "code",
   "execution_count": 89,
   "metadata": {},
   "outputs": [
    {
     "name": "stdout",
     "output_type": "stream",
     "text": [
      "[[2 2]\n",
      " [2 3]]\n"
     ]
    },
    {
     "data": {
      "text/plain": [
       "[Text(0, 0.5, 'Low-need'), Text(0, 1.5, 'High-need')]"
      ]
     },
     "execution_count": 89,
     "metadata": {},
     "output_type": "execute_result"
    },
    {
     "data": {
      "image/png": "[encoded data removed]",
      "text/plain": [
       "<Figure size 432x288 with 2 Axes>"
      ]
     },
     "metadata": {
      "needs_background": "light"
     },
     "output_type": "display_data"
    }
   ],
   "source": [
    "from sklearn.metrics import confusion_matrix\n",
    "\n",
    "cmatrix = confusion_matrix(y_test, predictions)\n",
    "print(cmatrix)\n",
    "\n",
    "ax= plt.subplot()\n",
    "sns.heatmap(cmatrix, annot=True, ax = ax, linewidths=1, cmap=\"Greens\"); # Use `annot=True` to annotate cells\n",
    "\n",
    "# Set labels, title and ticks\n",
    "ax.set_xlabel('Predicted labels');ax.set_ylabel('True labels'); \n",
    "ax.set_title('Confusion Matrix'); \n",
    "ax.xaxis.set_ticklabels(['Low-need', 'High-need']); ax.yaxis.set_ticklabels(['Low-need', 'High-need'])"
   ]
  },
  {
   "cell_type": "code",
   "execution_count": 90,
   "metadata": {},
   "outputs": [
    {
     "data": {
      "image/png": "[encoded data removed]",
      "text/plain": [
       "<Figure size 432x288 with 1 Axes>"
      ]
     },
     "metadata": {
      "needs_background": "light"
     },
     "output_type": "display_data"
    }
   ],
   "source": [
    "from sklearn.metrics import roc_auc_score\n",
    "from sklearn.metrics import roc_curve\n",
    "logit_roc_auc = roc_auc_score(y_test, logmodel.predict(X_test))\n",
    "fpr, tpr, thresholds = roc_curve(y_test, logmodel.predict_proba(X_test)[:,1])\n",
    "plt.figure()\n",
    "plt.plot(fpr, tpr, label='Logistic Regression (area = {})'.format(logit_roc_auc))\n",
    "plt.plot([0, 1], [0, 1],'r--')\n",
    "plt.xlim([0.0, 1.0])\n",
    "plt.ylim([0.0, 1.05])\n",
    "plt.xlabel('False Positive Rate')\n",
    "plt.ylabel('True Positive Rate')\n",
    "plt.title('Receiver operating characteristic')\n",
    "plt.legend(loc=\"lower right\")\n",
    "plt.show()"
   ]
  }
 ],
 "metadata": {
  "kernelspec": {
   "display_name": "Python 3",
   "language": "python",
   "name": "python3"
  },
  "language_info": {
   "codemirror_mode": {
    "name": "ipython",
    "version": 3
   },
   "file_extension": ".py",
   "mimetype": "text/x-python",
   "name": "python",
   "nbconvert_exporter": "python",
   "pygments_lexer": "ipython3",
   "version": "3.8.3"
  }
 },
 "nbformat": 4,
 "nbformat_minor": 4
}
